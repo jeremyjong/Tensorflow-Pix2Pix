{
 "cells": [
  {
   "cell_type": "code",
   "execution_count": 78,
   "metadata": {},
   "outputs": [],
   "source": [
    "import cv2\n",
    "import os\n",
    "import glob\n",
    "import numpy as np"
   ]
  },
  {
   "cell_type": "code",
   "execution_count": 79,
   "metadata": {},
   "outputs": [],
   "source": [
    "from fileinput import filename\n",
    "\n",
    "\n",
    "def preprocess_images(mosaic_path,uncensored_path, save_path):\n",
    "    mosaic_files = glob.glob(mosaic_path + \"\\*.*\", recursive=True)\n",
    "    \n",
    "    for item in mosaic_files:\n",
    "        fname = os.path.basename(item)\n",
    "        mimage = cv2.imread(item)\n",
    "        uimage = cv2.imread(uncensored_path + \"\\\\\" + fname)\n",
    "        im_v = cv2.hconcat([uimage, mimage])\n",
    "        cv2.imwrite(save_path + \"\\\\\" + fname, im_v)\n",
    "        \n",
    "\n"
   ]
  },
  {
   "cell_type": "code",
   "execution_count": 80,
   "metadata": {},
   "outputs": [],
   "source": [
    "a = preprocess_images(r\"D:\\(Code)\\Python\\keras-pix2pix\\mosaic_test_dataset\\raw\\mosaic\",r\"D:\\(Code)\\Python\\keras-pix2pix\\mosaic_test_dataset\\raw\\uncensored\",r\"D:\\(Code)\\Python\\keras-pix2pix\\mosaic_test_dataset\\train\")"
   ]
  },
  {
   "cell_type": "code",
   "execution_count": null,
   "metadata": {},
   "outputs": [],
   "source": []
  },
  {
   "cell_type": "code",
   "execution_count": null,
   "metadata": {},
   "outputs": [],
   "source": []
  }
 ],
 "metadata": {
  "kernelspec": {
   "display_name": "Python 3.9.7 ('base')",
   "language": "python",
   "name": "python3"
  },
  "language_info": {
   "codemirror_mode": {
    "name": "ipython",
    "version": 3
   },
   "file_extension": ".py",
   "mimetype": "text/x-python",
   "name": "python",
   "nbconvert_exporter": "python",
   "pygments_lexer": "ipython3",
   "version": "3.9.7"
  },
  "orig_nbformat": 4,
  "vscode": {
   "interpreter": {
    "hash": "b772300d5800c9e502f3c68663e40271aa107b5dc29499a66fc7b8e978e1e544"
   }
  }
 },
 "nbformat": 4,
 "nbformat_minor": 2
}
